{
 "cells": [
  {
   "cell_type": "markdown",
   "metadata": {},
   "source": [
    "# 목표\n",
    "\n",
    "카트폴이 똑똑해져서 알아서 500번 넘게 서있을 수 있도록 만들어주기\n",
    "\n",
    "## Reinforcement Learning\n",
    "1. 책을 보고 열심히 따라한다. 대신 내가 볼 내용만."
   ]
  },
  {
   "cell_type": "code",
   "execution_count": 66,
   "metadata": {},
   "outputs": [],
   "source": [
    "import gym\n"
   ]
  },
  {
   "cell_type": "code",
   "execution_count": 67,
   "metadata": {},
   "outputs": [
    {
     "name": "stdout",
     "output_type": "stream",
     "text": [
      "Observation: (array([ 0.0403607 ,  0.04376025,  0.02451493, -0.03488307], dtype=float32), {})\n",
      "Observation: [ 0.0412359   0.23852223  0.02381727 -0.3197316 ]\n",
      "Observation: [ 0.04600635  0.04306932  0.01742264 -0.01963376]\n",
      "Observation: [ 0.04686773  0.23793714  0.01702996 -0.30676913]\n",
      "Observation: [ 0.05162648  0.43281233  0.01089458 -0.59403294]\n",
      "Observation: [ 0.06028272  0.6277801  -0.00098608 -0.8832643 ]\n",
      "Observation: [ 0.07283832  0.82291543 -0.01865137 -1.1762571 ]\n",
      "Observation: [ 0.08929663  0.6280407  -0.04217651 -0.889479  ]\n",
      "Observation: [ 0.10185745  0.43351567 -0.05996609 -0.61034715]\n",
      "Observation: [ 0.11052776  0.23928091 -0.07217304 -0.33713818]\n",
      "Observation: [ 0.11531338  0.43535173 -0.0789158  -0.6516792 ]\n",
      "Observation: [ 0.12402041  0.24141239 -0.09194938 -0.38485277]\n",
      "Observation: [ 0.12884866  0.04770794 -0.09964643 -0.12251853]\n",
      "Observation: [ 0.12980282  0.24410585 -0.10209681 -0.44490162]\n",
      "Observation: [ 0.13468494  0.05056538 -0.11099484 -0.186067  ]\n",
      "Observation: [ 0.13569625 -0.14280792 -0.11471618  0.06964251]\n",
      "Observation: [ 0.13284008 -0.3361143  -0.11332333  0.32404363]\n",
      "Observation: [ 0.1261178  -0.5294556  -0.10684246  0.5789496 ]\n",
      "Observation: [ 0.11552869 -0.7229308  -0.09526347  0.83615553]\n",
      "Observation: [ 0.10107008 -0.9166314  -0.07854035  1.0974239 ]\n",
      "Observation: [ 0.08273745 -1.1106364  -0.05659188  1.3644673 ]\n",
      "Observation: [ 0.06052472 -0.91485316 -0.02930253  1.0546334 ]\n",
      "Observation: [ 0.04222766 -0.7193553  -0.00820986  0.7528987 ]\n",
      "Observation: [ 0.02784055 -0.52412105  0.00684811  0.45764363]\n",
      "Observation: [ 0.01735813 -0.3290966   0.01600098  0.1671271 ]\n",
      "Observation: [ 0.0107762  -0.52444386  0.01934352  0.46481463]\n",
      "Observation: [ 2.8731779e-04 -3.2960054e-01  2.8639816e-02  1.7829092e-01]\n",
      "Observation: [-0.00630469 -0.5251204   0.03220563  0.47986937]\n",
      "Observation: [-0.0168071  -0.33046752  0.04180302  0.1975083 ]\n",
      "Observation: [-0.02341645 -0.13596766  0.04575319 -0.08170011]\n",
      "Observation: [-0.0261358  -0.3317146   0.04411919  0.22505978]\n",
      "Observation: [-0.0327701  -0.5274384   0.04862038  0.53132665]\n",
      "Observation: [-0.04331886 -0.7232093   0.05924692  0.83892477]\n",
      "Observation: [-0.05778305 -0.52894425  0.07602541  0.56544685]\n",
      "Observation: [-0.06836194 -0.72504586  0.08733435  0.88107955]\n",
      "Observation: [-0.08286285 -0.5312119   0.10495594  0.6170804 ]\n",
      "Observation: [-0.09348709 -0.7276314   0.11729755  0.94088876]\n",
      "Observation: [-0.10803972 -0.534269    0.13611533  0.6872446 ]\n",
      "Observation: [-0.1187251  -0.7309914   0.14986022  1.0194933 ]\n",
      "Observation: [-0.13334493 -0.9277582   0.17025007  1.3552297 ]\n",
      "Observation: [-0.1519001  -1.124558    0.19735467  1.6959735 ]\n",
      "Episode finished after 41 timesteps\n"
     ]
    }
   ],
   "source": [
    "# Create the CartPole environment\n",
    "env = gym.make('CartPole-v1', render_mode=\"human\")\n",
    "\n",
    "# Reset the environment to get the initial observation\n",
    "observation = env.reset()\n",
    "\n",
    "# Run the simulation for a specified number of timesteps\n",
    "for t in range(1000):\n",
    "    # Render the environment (this might not work well in all environments)\n",
    "    # env.render()\n",
    "\n",
    "    # Print the current observation (state)\n",
    "    print(\"Observation:\", observation)\n",
    "\n",
    "    # 왼쪽으로 갈까 / 오른쪽으로 갈까\n",
    "    action = env.action_space.sample() # 현재 랜덤\n",
    "\n",
    "    # Take a step in the environment\n",
    "    observation, reward, terminated, truncated, info = env.step(action)\n",
    "\n",
    "    # Check if the episode is done (the pole has fallen)\n",
    "    if terminated or truncated:\n",
    "        print(\"Episode finished after {} timesteps\".format(t + 1))\n",
    "        break\n",
    "\n",
    "    # observation = env.reset()\n",
    "\n",
    "# Close the environment (important to prevent graphical glitches)\n",
    "env.close()\n"
   ]
  },
  {
   "cell_type": "code",
   "execution_count": null,
   "metadata": {},
   "outputs": [],
   "source": []
  }
 ],
 "metadata": {
  "kernelspec": {
   "display_name": "cart.11",
   "language": "python",
   "name": "python3"
  },
  "language_info": {
   "codemirror_mode": {
    "name": "ipython",
    "version": 3
   },
   "file_extension": ".py",
   "mimetype": "text/x-python",
   "name": "python",
   "nbconvert_exporter": "python",
   "pygments_lexer": "ipython3",
   "version": "3.11.7"
  }
 },
 "nbformat": 4,
 "nbformat_minor": 2
}
